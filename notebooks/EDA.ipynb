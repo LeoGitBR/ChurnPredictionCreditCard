{
 "cells": [
  {
   "cell_type": "markdown",
   "metadata": {},
   "source": [
    "\n",
    "# Bank's credit card churn prediction\n",
    "In this project I'll create a ML model to predict the probability of a customer churn.\n",
    "The pipeline used for it is based on **CRISP-DM** framework, as follow:\n",
    "\n",
    "1. Describe and understand business objective\n",
    "2. Data undersdanding: \n",
    "    - Collect the data and get an overview of it\n",
    "    - Explore the data (EDA)\n",
    "3. Data preparation\n",
    "    - Feature engineering\n",
    "    - data cleaning\n",
    "    - data preprocessing\n",
    "4. Modeling\n",
    "    - Divide between train / test\n",
    "    - Model training\n",
    "    - Model testing\n",
    "5. Model testing\n",
    "6. Conclude and interpret results\n",
    "7. Deploy\n",
    "\n",
    "# 1. Business problem\n",
    "We are worried of more customer leaving our credit card serivices. We'd like to undestand better the causes , predicit how likely a customer can churn and do sobre proactively actions to reduce the chance of a customer\n",
    "\n",
    "**Which are project objectives?**\n",
    "\n",
    "1. Identify reasons why a customer is churning\n",
    "2. Construct a model to predict the chance of a customer churn\n",
    "3. Offer action plans to reduce credit card churn# Bank's credit card churn prediction\n",
    "\n",
    "**Which are the benefits**\n",
    "1. Cost saving\n",
    "2. Improved customer retention\n",
    "3. Targeted marketing\n",
    "\n",
    "\n",
    "#### **Importing libraries**"
   ]
  },
  {
   "cell_type": "code",
   "execution_count": 1,
   "metadata": {},
   "outputs": [
    {
     "name": "stderr",
     "output_type": "stream",
     "text": [
      "C:\\Users\\BRLUIZL1\\AppData\\Local\\Temp\\ipykernel_34404\\4081776014.py:2: DeprecationWarning: \n",
      "Pyarrow will become a required dependency of pandas in the next major release of pandas (pandas 3.0),\n",
      "(to allow more performant data types, such as the Arrow string type, and better interoperability with other libraries)\n",
      "but was not found to be installed on your system.\n",
      "If this would cause problems for you,\n",
      "please provide us feedback at https://github.com/pandas-dev/pandas/issues/54466\n",
      "        \n",
      "  import pandas as pd\n"
     ]
    },
    {
     "data": {
      "text/html": [
       "<svg  width=\"330\" height=\"55\"><rect x=\"0\" y=\"0\" width=\"55\" height=\"55\" style=\"fill:#023047;stroke-width:2;stroke:rgb(255,255,255)\"/><rect x=\"55\" y=\"0\" width=\"55\" height=\"55\" style=\"fill:#e85d04;stroke-width:2;stroke:rgb(255,255,255)\"/><rect x=\"110\" y=\"0\" width=\"55\" height=\"55\" style=\"fill:#0077b6;stroke-width:2;stroke:rgb(255,255,255)\"/><rect x=\"165\" y=\"0\" width=\"55\" height=\"55\" style=\"fill:#ff8200;stroke-width:2;stroke:rgb(255,255,255)\"/><rect x=\"220\" y=\"0\" width=\"55\" height=\"55\" style=\"fill:#0096c7;stroke-width:2;stroke:rgb(255,255,255)\"/><rect x=\"275\" y=\"0\" width=\"55\" height=\"55\" style=\"fill:#ff9c33;stroke-width:2;stroke:rgb(255,255,255)\"/></svg>"
      ],
      "text/plain": [
       "[(0.00784313725490196, 0.18823529411764706, 0.2784313725490196),\n",
       " (0.9098039215686274, 0.36470588235294116, 0.01568627450980392),\n",
       " (0.0, 0.4666666666666667, 0.7137254901960784),\n",
       " (1.0, 0.5098039215686274, 0.0),\n",
       " (0.0, 0.5882352941176471, 0.7803921568627451),\n",
       " (1.0, 0.611764705882353, 0.2)]"
      ]
     },
     "execution_count": 1,
     "metadata": {},
     "output_type": "execute_result"
    }
   ],
   "source": [
    "# Data manipulation and visualization.\n",
    "import pandas as pd\n",
    "import numpy as np\n",
    "import matplotlib.pyplot as plt\n",
    "import matplotlib as mpl\n",
    "import seaborn as sns\n",
    "\n",
    "# Split the data.\n",
    "from sklearn.model_selection import train_test_split\n",
    "\n",
    "# Filter warnings.\n",
    "import warnings\n",
    "warnings.filterwarnings('ignore')\n",
    "\n",
    "\n",
    "### Visualization Settings\n",
    "%matplotlib inline\n",
    "\n",
    "mpl.style.use('ggplot') \n",
    "\n",
    "mpl.rcParams['axes.facecolor']      = 'white'\n",
    "mpl.rcParams['axes.linewidth']      = 1\n",
    "mpl.rcParams['xtick.color']         = 'black'\n",
    "mpl.rcParams['ytick.color']         = 'black'\n",
    "mpl.rcParams['grid.color']          = 'lightgray'\n",
    "mpl.rcParams['figure.dpi']          = 150\n",
    "mpl.rcParams['axes.grid']           = True\n",
    "mpl.rcParams['font.size']           = 12\n",
    "\n",
    "# Palette Setting\n",
    "color_palette = ['#023047', '#e85d04', '#0077b6', '#ff8200', '#0096c7', '#ff9c33']\n",
    "# Setting as the palette\n",
    "sns.set_palette(sns.color_palette(color_palette))\n",
    "# Display\n",
    "sns.color_palette(color_palette)"
   ]
  },
  {
   "cell_type": "code",
   "execution_count": null,
   "metadata": {},
   "outputs": [],
   "source": []
  },
  {
   "cell_type": "markdown",
   "metadata": {},
   "source": []
  }
 ],
 "metadata": {
  "kernelspec": {
   "display_name": "Python 3",
   "language": "python",
   "name": "python3"
  },
  "language_info": {
   "codemirror_mode": {
    "name": "ipython",
    "version": 3
   },
   "file_extension": ".py",
   "mimetype": "text/x-python",
   "name": "python",
   "nbconvert_exporter": "python",
   "pygments_lexer": "ipython3",
   "version": "3.12.1"
  }
 },
 "nbformat": 4,
 "nbformat_minor": 2
}
